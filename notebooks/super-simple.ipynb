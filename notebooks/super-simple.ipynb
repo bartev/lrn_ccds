{
 "cells": [
  {
   "cell_type": "code",
   "execution_count": 4,
   "id": "cd6977fc-da99-4a5a-8a42-3c54350ae355",
   "metadata": {},
   "outputs": [
    {
     "name": "stderr",
     "output_type": "stream",
     "text": [
      "UsageError: Line magic function `%jupyter-black` not found.\n"
     ]
    }
   ],
   "source": [
    "%jupyter-black"
   ]
  },
  {
   "cell_type": "code",
   "execution_count": 1,
   "id": "a309a2e0-d751-4f60-936f-7f5cfc951e5b",
   "metadata": {},
   "outputs": [],
   "source": [
    "x = 123\n",
    "y = 11"
   ]
  },
  {
   "cell_type": "code",
   "execution_count": 2,
   "id": "9e87ad79-4e6c-4ecb-b958-9ea3bdc2d664",
   "metadata": {},
   "outputs": [],
   "source": [
    "def sum(a, b):\n",
    "    return a + b"
   ]
  },
  {
   "cell_type": "code",
   "execution_count": 3,
   "id": "7876514a-a04b-49cb-be2d-c5618cac4c72",
   "metadata": {},
   "outputs": [
    {
     "data": {
      "text/plain": [
       "134"
      ]
     },
     "execution_count": 3,
     "metadata": {},
     "output_type": "execute_result"
    }
   ],
   "source": [
    "sum(x, y)"
   ]
  },
  {
   "cell_type": "code",
   "execution_count": null,
   "id": "81ba1a1f-e004-45a1-83ec-d257d291a64b",
   "metadata": {},
   "outputs": [],
   "source": []
  }
 ],
 "metadata": {
  "kernelspec": {
   "display_name": "project",
   "language": "python",
   "name": "project"
  },
  "language_info": {
   "codemirror_mode": {
    "name": "ipython",
    "version": 3
   },
   "file_extension": ".py",
   "mimetype": "text/x-python",
   "name": "python",
   "nbconvert_exporter": "python",
   "pygments_lexer": "ipython3",
   "version": "3.10.12"
  }
 },
 "nbformat": 4,
 "nbformat_minor": 5
}
